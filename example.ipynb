{
  "cells": [
    {
      "cell_type": "raw",
      "metadata": {},
      "source": [
        "---\n",
        "title: \"Spotlight Example\"\n",
        "format:\n",
        "  revealjs: default\n",
        "revealjs-plugins:\n",
        "  - spotlight\n",
        "---"
      ],
      "id": "cdabd1d2"
    },
    {
      "cell_type": "markdown",
      "metadata": {},
      "source": [
        "## In the morning\n",
        "\n",
        "Spotlight is just there on creen\n",
        "\n",
        "\n",
        "````{markdown}\n",
        "::: {.spotlight top=\"50%\" left=\"40%\"}\n",
        ":::\n",
        "````\n",
        "\n",
        "\n",
        ":::: {.spotlight top=\"50%\" left=\"40%\"}\n",
        ":::\n",
        "\n",
        "## In the morning\n",
        "\n",
        ":::: {.spotlight .fragment top=\"50%\" left=\"40%\"}\n",
        ":::\n",
        "\n",
        "## Getting up\n",
        "\n",
        "- Turn off alarm\n",
        "- Get out of bed\n",
        "\n",
        "## Breakfast\n",
        "\n",
        "- Eat eggs\n",
        "- Drink coffee\n",
        "\n",
        "# In the evening\n",
        "\n",
        "## Dinner\n",
        "\n",
        "- Eat spaghetti\n",
        "- Drink wine\n",
        "\n",
        "## Going to sleep\n",
        "\n",
        "- Get in bed\n",
        "- Count sheep"
      ],
      "id": "17ee0b4f"
    }
  ],
  "metadata": {
    "kernelspec": {
      "name": "quarto-kernel",
      "language": "python",
      "display_name": "quarto-kernel"
    }
  },
  "nbformat": 4,
  "nbformat_minor": 5
}